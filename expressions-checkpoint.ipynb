{
 "cells": [
  {
   "cell_type": "code",
   "execution_count": 1,
   "metadata": {},
   "outputs": [
    {
     "name": "stdout",
     "output_type": "stream",
     "text": [
      "NAME-Nagavenila\n",
      "ADDRESS-House no =182, janapriyanagar,miyapur,hyderabad,5000049\n",
      "PHONE NUMBER - 1522388468\n"
     ]
    }
   ],
   "source": [
    "print(\"NAME-Nagavenila\")\n",
    "print(\"ADDRESS-House no =182, janapriyanagar,miyapur,hyderabad,5000049\")\n",
    "print(\"PHONE NUMBER - 1522388468\")"
   ]
  },
  {
   "cell_type": "code",
   "execution_count": 14,
   "metadata": {},
   "outputs": [
    {
     "name": "stdin",
     "output_type": "stream",
     "text": [
      "enter the name: venila\n"
     ]
    },
    {
     "name": "stdout",
     "output_type": "stream",
     "text": [
      "hello! venila\n"
     ]
    }
   ],
   "source": [
    "name = str(input(\"enter the name:\"))\n",
    "print(\"hello!\",name)"
   ]
  },
  {
   "cell_type": "code",
   "execution_count": 15,
   "metadata": {},
   "outputs": [
    {
     "name": "stdin",
     "output_type": "stream",
     "text": [
      "enter the length: 12\n",
      "enter the width: 13\n"
     ]
    },
    {
     "name": "stdout",
     "output_type": "stream",
     "text": [
      "156.0 mts\n"
     ]
    }
   ],
   "source": [
    "length = float(input(\"enter the length:\"))\n",
    "width = float(input(\"enter the width:\"))\n",
    "area = length*width\n",
    "print(area,\"mts\")"
   ]
  },
  {
   "cell_type": "code",
   "execution_count": 19,
   "metadata": {},
   "outputs": [
    {
     "name": "stdin",
     "output_type": "stream",
     "text": [
      "enter the length of side s1: 7\n",
      "enter the length of side s2: 6\n",
      "enter the length of side s3: 5\n"
     ]
    },
    {
     "name": "stdout",
     "output_type": "stream",
     "text": [
      "the area of triangle is: 14.696938456699069\n"
     ]
    }
   ],
   "source": [
    "s1=int(input(\"enter the length of side s1:\"))\n",
    "s2=int(input(\"enter the length of side s2:\"))\n",
    "s3=int(input(\"enter the length of side s3:\"))\n",
    "s = (s1 + s2 + s3)/2\n",
    "area = math.sqrt(s*(s-s1)*(s-s2)*(s-s3))\n",
    "print(\"the area of triangle is:\",area)"
   ]
  },
  {
   "cell_type": "code",
   "execution_count": 26,
   "metadata": {},
   "outputs": [
    {
     "name": "stdin",
     "output_type": "stream",
     "text": [
      "enter the containers less than litre: 20\n",
      "enter the containers more than litre: 30\n"
     ]
    },
    {
     "name": "stdout",
     "output_type": "stream",
     "text": [
      "the refund in $%.2f. 32.25\n"
     ]
    }
   ],
   "source": [
    "less = int(input(\"enter the containers less than litre:\"))\n",
    "more = int(input(\"enter the containers more than litre:\"))\n",
    "less_size = 0.10\n",
    "more_size = 0.25\n",
    "refund = less*less_size + more+more_size\n",
    "print(\"the refund is $%.2f.\",  refund)\n"
   ]
  },
  {
   "cell_type": "code",
   "execution_count": 32,
   "metadata": {},
   "outputs": [
    {
     "name": "stdin",
     "output_type": "stream",
     "text": [
      "enter the deposited ammount: 10000\n"
     ]
    },
    {
     "name": "stdout",
     "output_type": "stream",
     "text": [
      "the amount is: 400.00\n",
      "the amount is: 816.00\n",
      "the amount is: 1248.64\n"
     ]
    }
   ],
   "source": [
    "p = int(input(\"enter the deposited ammount:\"))\n",
    "r = 4\n",
    "t = 1\n",
    "amount = p*(pow((1+r/100),t))\n",
    "compo = amount-p\n",
    "print(\"the amount is:\",format(compo,\".2f\"))\n",
    "t=2\n",
    "amount = p*(pow((1+r/100),t))\n",
    "compo = amount-p\n",
    "print(\"the amount is:\",format(compo,\".2f\"))\n",
    "t=3\n",
    "amount = p*(pow((1+r/100),t))\n",
    "compo = amount-p\n",
    "print(\"the amount is:\",format(compo,\".2f\"))\n",
    "\n"
   ]
  },
  {
   "cell_type": "code",
   "execution_count": 19,
   "metadata": {},
   "outputs": [
    {
     "name": "stdin",
     "output_type": "stream",
     "text": [
      "enter the integer: 4\n"
     ]
    },
    {
     "name": "stdout",
     "output_type": "stream",
     "text": [
      "the sumof positive integer is: 10.0\n"
     ]
    }
   ],
   "source": [
    " n=int(input(\"enter the integer:\"))\n",
    "sum = 0\n",
    "sum = (n)*(n+1)/2\n",
    "print(\"the sumof positive integer is:\",sum)\n",
    "            "
   ]
  },
  {
   "cell_type": "code",
   "execution_count": 26,
   "metadata": {},
   "outputs": [
    {
     "name": "stdin",
     "output_type": "stream",
     "text": [
      "enter the meal cost: 45\n"
     ]
    },
    {
     "name": "stdout",
     "output_type": "stream",
     "text": [
      "the meal cost is: 55.35\n"
     ]
    }
   ],
   "source": [
    "n = int(input(\"enter the meal cost:\"))\n",
    "tax = 18/100*n\n",
    "tip = 5/100*n\n",
    "meal = tax + tip + n\n",
    "print(\"the meal cost is:\",meal)"
   ]
  },
  {
   "cell_type": "code",
   "execution_count": 33,
   "metadata": {},
   "outputs": [
    {
     "name": "stdin",
     "output_type": "stream",
     "text": [
      "enter the feet: 4\n"
     ]
    },
    {
     "name": "stdout",
     "output_type": "stream",
     "text": [
      "the inches: 48\n",
      "the yard: 1.3333333333333333\n",
      "the mile: 0.0007575757575757576\n"
     ]
    }
   ],
   "source": [
    "n = int(input(\"enter the feet:\"))\n",
    "inches = 12*n\n",
    "yard = 1/3*n\n",
    "mile = 1/5280*n\n",
    "print(\"the inches:\",inches)\n",
    "print(\"the yard:\",yard)\n",
    "print(\"the mile:\",mile)\n"
   ]
  },
  {
   "cell_type": "code",
   "execution_count": 7,
   "metadata": {},
   "outputs": [
    {
     "name": "stdin",
     "output_type": "stream",
     "text": [
      "enter the radius: 3\n"
     ]
    },
    {
     "name": "stdout",
     "output_type": "stream",
     "text": [
      "area is: 28.274333882308138\n",
      "the volume  of circle is: 113.09733552923255\n"
     ]
    }
   ],
   "source": [
    "from math import pi\n",
    "r =  int(input(\"enter the radius:\"))\n",
    "area = pi*(r)*(r)\n",
    "volume = 4/3*(area)*(r)\n",
    "print(\"area is:\",area)\n",
    "print(\"the volume  of circle is:\",volume)"
   ]
  },
  {
   "cell_type": "code",
   "execution_count": 10,
   "metadata": {},
   "outputs": [
    {
     "name": "stdin",
     "output_type": "stream",
     "text": [
      "enter the heigth: 5\n"
     ]
    },
    {
     "name": "stdout",
     "output_type": "stream",
     "text": [
      "final speed 9.899494936611665\n"
     ]
    }
   ],
   "source": [
    "import math\n",
    "d = int(input(\"enter the heigth:\"))\n",
    "vi=0\n",
    "a = 9.8\n",
    "vf = math.sqrt(vi*vi+(2*a*d))\n",
    "print(\"final speed\",vf)"
   ]
  },
  {
   "cell_type": "code",
   "execution_count": 1,
   "metadata": {},
   "outputs": [
    {
     "name": "stdin",
     "output_type": "stream",
     "text": [
      "enter the no of seconds: 1800\n"
     ]
    },
    {
     "name": "stdout",
     "output_type": "stream",
     "text": [
      "minute 30.0\n",
      "hour 0.5\n",
      "day 0.041666666666666664\n"
     ]
    }
   ],
   "source": [
    "sec = int(input(\"enter the no of seconds:\"))\n",
    "min = sec/60\n",
    "print(\"minute\",min)\n",
    "hour = min/60\n",
    "print(\"hour\",hour)\n",
    "day= hour/12\n",
    "print(\"day\",day)"
   ]
  },
  {
   "cell_type": "code",
   "execution_count": 3,
   "metadata": {},
   "outputs": [
    {
     "name": "stdin",
     "output_type": "stream",
     "text": [
      "enter the 4 digit number: 3141\n"
     ]
    },
    {
     "name": "stdout",
     "output_type": "stream",
     "text": [
      "the sum: 9\n"
     ]
    }
   ],
   "source": [
    "n = input(\"enter the 4 digit number:\")\n",
    "sum = 0\n",
    "for i in n:\n",
    "    sum = sum+int(i)\n",
    "print(\"the sum:\",sum)\n"
   ]
  },
  {
   "cell_type": "code",
   "execution_count": null,
   "metadata": {},
   "outputs": [],
   "source": []
  },
  {
   "cell_type": "code",
   "execution_count": null,
   "metadata": {},
   "outputs": [],
   "source": []
  }
 ],
 "metadata": {
  "kernelspec": {
   "display_name": "Python 3",
   "language": "python",
   "name": "python3"
  },
  "language_info": {
   "codemirror_mode": {
    "name": "ipython",
    "version": 3
   },
   "file_extension": ".py",
   "mimetype": "text/x-python",
   "name": "python",
   "nbconvert_exporter": "python",
   "pygments_lexer": "ipython3",
   "version": "3.7.3"
  }
 },
 "nbformat": 4,
 "nbformat_minor": 2
}
