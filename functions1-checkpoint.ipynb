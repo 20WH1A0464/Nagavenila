{
 "cells": [
  {
   "cell_type": "code",
   "execution_count": 12,
   "metadata": {},
   "outputs": [
    {
     "name": "stdout",
     "output_type": "stream",
     "text": [
      "6.4031242374328485\n"
     ]
    }
   ],
   "source": [
    "def gethypotenuse(side1,side2):\n",
    "    h= ((side1*side1)+(side2*side2))**0.5;\n",
    "    return h;\n",
    "side1=4;\n",
    "side2=5;\n",
    "print(gethypotenuse(side1,side2))"
   ]
  },
  {
   "cell_type": "code",
   "execution_count": 14,
   "metadata": {},
   "outputs": [
    {
     "name": "stdout",
     "output_type": "stream",
     "text": [
      "valid\n"
     ]
    }
   ],
   "source": [
    "def validTriangle(a,b,c):\n",
    "    if(a+b<=c or a+c<=b or b+c<=a):\n",
    "        return False\n",
    "    else:\n",
    "        return True\n",
    "a=7;\n",
    "b=5;\n",
    "c=4;\n",
    "if validTriangle(a,b,c):\n",
    "    print(\"valid\")\n",
    "else:\n",
    "    print(\"notvalid\")\n",
    "    "
   ]
  },
  {
   "cell_type": "code",
   "execution_count": 27,
   "metadata": {},
   "outputs": [
    {
     "name": "stdout",
     "output_type": "stream",
     "text": [
      "False\n",
      "True\n"
     ]
    }
   ],
   "source": [
    "def isPrime(n):\n",
    "    for i in range(2,n):\n",
    "        if(n%i==0):\n",
    "            return False\n",
    "    else:\n",
    "            return True\n",
    "print(isPrime(4))\n",
    "print(isPrime(7))"
   ]
  },
  {
   "cell_type": "code",
   "execution_count": 2,
   "metadata": {},
   "outputs": [
    {
     "name": "stdout",
     "output_type": "stream",
     "text": [
      "13\n"
     ]
    }
   ],
   "source": [
    "def nextprime(n):\n",
    "    while True:\n",
    "        n+=1\n",
    "        for i in range(2,n):\n",
    "            if(n%i==0):\n",
    "                break\n",
    "        else:\n",
    "            return n\n",
    "print(nextprime(11))"
   ]
  },
  {
   "cell_type": "code",
   "execution_count": 1,
   "metadata": {},
   "outputs": [
    {
     "name": "stdout",
     "output_type": "stream",
     "text": [
      "Enter the password: Venila@1\n",
      "That is a valid password.\n"
     ]
    }
   ],
   "source": [
    "length = lower = upper = digit = False\n",
    "\n",
    "password = input('Enter the password: ')\n",
    "\n",
    "if len(password)>= 8:\n",
    "    length = True\n",
    "    \n",
    "    for letter in password:\n",
    "        if letter.islower():\n",
    "            lower = True\n",
    "        elif letter.isupper():\n",
    "            upper = True\n",
    "        elif letter.isdigit():\n",
    "            digit = True\n",
    "\n",
    "\n",
    "if length and lower and upper and digit:\n",
    "    print('That is a valid password.')\n",
    "else:\n",
    "    print('That password is not valid.')\n",
    "\n",
    "\n",
    "\n"
   ]
  },
  {
   "cell_type": "code",
   "execution_count": null,
   "metadata": {},
   "outputs": [],
   "source": []
  },
  {
   "cell_type": "code",
   "execution_count": null,
   "metadata": {},
   "outputs": [],
   "source": []
  },
  {
   "cell_type": "code",
   "execution_count": null,
   "metadata": {},
   "outputs": [],
   "source": []
  }
 ],
 "metadata": {
  "kernelspec": {
   "display_name": "Python 3",
   "language": "python",
   "name": "python3"
  },
  "language_info": {
   "codemirror_mode": {
    "name": "ipython",
    "version": 3
   },
   "file_extension": ".py",
   "mimetype": "text/x-python",
   "name": "python",
   "nbconvert_exporter": "python",
   "pygments_lexer": "ipython3",
   "version": "3.7.3"
  }
 },
 "nbformat": 4,
 "nbformat_minor": 2
}
