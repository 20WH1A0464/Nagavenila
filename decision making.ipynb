{
 "cells": [
  {
   "cell_type": "code",
   "execution_count": 5,
   "metadata": {},
   "outputs": [
    {
     "name": "stdout",
     "output_type": "stream",
     "text": [
      "enter any number:9\n",
      "odd\n"
     ]
    }
   ],
   "source": [
    "n = int(input(\"enter any number:\"))\n",
    "if(n%2==0):\n",
    "    print(\"even\")\n",
    "else:\n",
    "        print(\"odd\")"
   ]
  },
  {
   "cell_type": "code",
   "execution_count": 3,
   "metadata": {},
   "outputs": [
    {
     "name": "stdout",
     "output_type": "stream",
     "text": [
      "enter any letter:n\n",
      "consonant\n"
     ]
    }
   ],
   "source": [
    "vowels = ('a','e','i','o','u')\n",
    "n = input(\"enter any letter:\")\n",
    "if(n==vowels):\n",
    "    print(\"vowel\")\n",
    "elif n =='y':\n",
    "        print(\" sometimesvowel or sometimesconsonant\")\n",
    "else:\n",
    "        print(\"consonant\")"
   ]
  },
  {
   "cell_type": "code",
   "execution_count": 7,
   "metadata": {},
   "outputs": [
    {
     "name": "stdout",
     "output_type": "stream",
     "text": [
      "enter the length:\n",
      "a:2\n",
      "b:4\n",
      "c:2\n",
      "isosceles\n"
     ]
    }
   ],
   "source": [
    "print(\"enter the length:\")\n",
    "a = int(input(\"a:\"))\n",
    "b = int(input(\"b:\"))\n",
    "c = int(input(\"c:\"))\n",
    "if(a==b==c):\n",
    "    print(\"equilateral\")\n",
    "elif a==b or b==c or c==a:\n",
    "    print(\"isosceles\")\n",
    "else:\n",
    "    print(\"scalene\")"
   ]
  },
  {
   "cell_type": "code",
   "execution_count": 8,
   "metadata": {},
   "outputs": [
    {
     "name": "stdout",
     "output_type": "stream",
     "text": [
      "length of month9\n",
      "30days\n"
     ]
    }
   ],
   "source": [
    "month = int(input(\"length of month\"))\n",
    "if(month==2):\n",
    "    print(\"28 or 29\")\n",
    "elif month==4 or  month==6 or month==9or month==11:\n",
    "    print(\"30days\")\n",
    "elif month>12 or month<1:\n",
    "    print(\"invalid\")\n",
    "else:\n",
    "    print(\"31days\")"
   ]
  },
  {
   "cell_type": "code",
   "execution_count": 83,
   "metadata": {},
   "outputs": [
    {
     "name": "stdout",
     "output_type": "stream",
     "text": [
      "Enter your license plate: WER123\n",
      "old type\n"
     ]
    }
   ],
   "source": [
    "l = input(\"Enter your license plate: \")\n",
    "if len(l) == 6:\n",
    "    if l[0] and l[1] and l[2] in \"ABCDEFGHIJKLMNOPQRSTUVWXYZ\":\n",
    "        if l[3]and l[4]and l[5] in \"1234567890\":\n",
    "            print(\"old type\")\n",
    "        else:\n",
    "            print(\"invalid\")\n",
    "    else:\n",
    "        print(\"not valid\")\n",
    "elif len(l) == 7:\n",
    "    if l[0] and l[1] and l[2] and l[3] in \"1234567890\":\n",
    "        if l[4]and l[5]and l[6]  in \"ABCDEFGHIJKLMNOPQRSTUVWXYZ\":\n",
    "            print(\"new type\")\n",
    "    else:\n",
    "        print(\"is not valid\")\n",
    "else:\n",
    "        print(\"invalid\")\n",
    "    \n",
    "    "
   ]
  },
  {
   "cell_type": "code",
   "execution_count": 8,
   "metadata": {},
   "outputs": [
    {
     "name": "stdout",
     "output_type": "stream",
     "text": [
      "enter the position:d5\n",
      "white\n"
     ]
    }
   ],
   "source": [
    "pos = str(input(\"enter the position:\"))\n",
    "r,c = int(pos[1]),pos[0]\n",
    "c = ord(c)-96\n",
    "if((r+c)%2):\n",
    "    print(\"white\")\n",
    "else:\n",
    "    print(\"black\")\n",
    "\n"
   ]
  },
  {
   "cell_type": "code",
   "execution_count": 2,
   "metadata": {},
   "outputs": [
    {
     "name": "stdout",
     "output_type": "stream",
     "text": [
      "enter the month:may\n",
      "enter the day:2\n",
      "summer\n"
     ]
    }
   ],
   "source": [
    "month = input(\"enter the month:\")\n",
    "day = int(input(\"enter the day:\")) \n",
    "if month  in ('april','may','june'):\n",
    "    print(\"summer\")\n",
    "elif month in ('july','august','september'):\n",
    "    print(\"fall\")\n",
    "elif month in ('october','november','december'):\n",
    "    print(\"winter\")\n",
    "elif month in ('january','february','march'):\n",
    "    print(\"spring\")\n",
    "else:\n",
    "    print(\"autumn\")\n",
    "if (month=='march') and (day>19):\n",
    "    print(\"spring\")\n",
    "elif (month==\"june\") and (day>20):\n",
    "    print(\"summer\")\n",
    "elif(month==\"september\") and (day>21):\n",
    "    print(\"fall\")\n",
    "elif(month==\"december\") and (day>20):\n",
    "    print(\"winter\")"
   ]
  },
  {
   "cell_type": "code",
   "execution_count": 30,
   "metadata": {},
   "outputs": [
    {
     "name": "stdout",
     "output_type": "stream",
     "text": [
      "Input birthday: 24\n",
      "Input month:august\n",
      "the sign is: virgo\n"
     ]
    }
   ],
   "source": [
    "day = int(input(\"Input birthday: \"))\n",
    "month = input(\"Input month:\")\n",
    "if month == 'december':\n",
    "\tsign = 'Sagittarius' if (day < 22) else 'capricorn'\n",
    "elif month == 'january':\n",
    "    sign = 'Capricorn' if (day < 20) else 'aquarius'\n",
    "elif month == 'february':\n",
    "\tsign = 'Aquarius' if (day < 19) else 'pisces'\n",
    "elif month == 'march':\n",
    "\tsign = 'Pisces' if (day < 21) else 'aries'\n",
    "elif month == 'april':\n",
    "\tsign = 'Aries' if (day < 20) else 'taurus'\n",
    "elif month == 'may':\n",
    "\tsign = 'Taurus' if (day < 21) else 'gemini'\n",
    "elif month == 'june':\n",
    "\tsign = 'Gemini' if (day < 21) else 'cancer'\n",
    "elif month == 'july':\n",
    "\tsign = 'Cancer' if (day < 23) else 'leo'\n",
    "elif month == 'august':\n",
    "\tsign = 'Leo' if (day < 23) else 'virgo'\n",
    "elif month == 'september':\n",
    "\tsign = 'Virgo' if (day < 23) else 'libra'\n",
    "elif month == 'october':\n",
    "\tsign = 'Libra' if (day < 23) else 'scorpio'\n",
    "elif month == 'november':\n",
    "\tsign = 'scorpio' if (day < 22) else 'sagittarius'\n",
    "print(\"the sign is:\",sign)   "
   ]
  },
  {
   "cell_type": "code",
   "execution_count": 44,
   "metadata": {},
   "outputs": [
    {
     "name": "stdout",
     "output_type": "stream",
     "text": [
      "enter the year:2000\n",
      "the year is leap year\n"
     ]
    }
   ],
   "source": [
    "year = int(input(\"enter the year:\"))\n",
    "if(year%400==0) or (year%4==0):\n",
    "    print(\"the year is leap year\")\n",
    "elif(year%100==0) and (year%4!=0):\n",
    "    print(\"the year is not year\")\n",
    "else:\n",
    "    print(\"not leap year\")\n",
    "\n"
   ]
  },
  {
   "cell_type": "code",
   "execution_count": null,
   "metadata": {},
   "outputs": [],
   "source": [
    "wavelength = int(input(\"enter the wavelength:\"))\n",
    "if wavelength>350 and wavelength<450:\n",
    "    print(\"violet\")\n",
    "elif wavelength>=450 and wavelength<495:\n",
    "    print(\"Blue\")\n",
    "elif wavelength>=495 and wavelength<570:\n",
    "    print(\"Green\")\n",
    "elif wavelength>=570 and wavelength<590:\n",
    "    print(\"Yellow\")\n",
    "elif wavelength>=590 and wavelength<620:\n",
    "    print(\"Orange\")\n",
    "elif wavelength>=620 and wavelength<=750:\n",
    "    print(\"Red\")\n",
    "else:\n",
    "    print(\"wavelength is out of range\")"
   ]
  },
  {
   "cell_type": "code",
   "execution_count": null,
   "metadata": {},
   "outputs": [],
   "source": []
  },
  {
   "cell_type": "markdown",
   "metadata": {},
   "source": []
  },
  {
   "cell_type": "code",
   "execution_count": null,
   "metadata": {},
   "outputs": [],
   "source": []
  },
  {
   "cell_type": "code",
   "execution_count": null,
   "metadata": {},
   "outputs": [],
   "source": []
  }
 ],
 "metadata": {
  "kernelspec": {
   "display_name": "Python 3",
   "language": "python",
   "name": "python3"
  },
  "language_info": {
   "codemirror_mode": {
    "name": "ipython",
    "version": 3
   },
   "file_extension": ".py",
   "mimetype": "text/x-python",
   "name": "python",
   "nbconvert_exporter": "python",
   "pygments_lexer": "ipython3",
   "version": "3.7.3"
  }
 },
 "nbformat": 4,
 "nbformat_minor": 5
}
