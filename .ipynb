{
 "cells": [
  {
   "cell_type": "code",
   "execution_count": 37,
   "metadata": {},
   "outputs": [
    {
     "name": "stdout",
     "output_type": "stream",
     "text": [
      "enter the no of values:2\n",
      "enter number:1\n",
      "the sum is: 1\n",
      "enter number:7\n",
      "the sum is: 8\n"
     ]
    }
   ],
   "source": [
    "num= int(input(\"enter the no of values:\")) \n",
    "sum=0 \n",
    "for i in range(0,num):\n",
    "    n = int(input(\"enter number:\")) \n",
    "    sum+=n \n",
    "    print(\"the sum is:\",sum)"
   ]
  },
  {
   "cell_type": "code",
   "execution_count": 15,
   "metadata": {},
   "outputs": [
    {
     "name": "stdout",
     "output_type": "stream",
     "text": [
      "enter the string:venila\n",
      "vowels are: 0\n",
      "consonants are: 1\n",
      "vowels are: 1\n",
      "consonants are: 1\n",
      "vowels are: 1\n",
      "consonants are: 2\n",
      "vowels are: 2\n",
      "consonants are: 2\n",
      "vowels are: 2\n",
      "consonants are: 3\n",
      "vowels are: 3\n",
      "consonants are: 3\n"
     ]
    }
   ],
   "source": [
    "str =input(\"enter the string:\")\n",
    "vowels=0\n",
    "consonants=0\n",
    "for i in str:\n",
    "    if(i=='a'or i =='e' or i=='i' or i=='o' or i=='u'or i=='A'or i =='E' or i=='I' or i=='O' or i=='U'):\n",
    "        vowels=vowels+1\n",
    "    else: \n",
    "         consonants=consonants+1\n",
    "    print(\"vowels are:\",vowels)\n",
    "    print(\"consonants are:\",consonants)"
   ]
  },
  {
   "cell_type": "code",
   "execution_count": 2,
   "metadata": {},
   "outputs": [
    {
     "name": "stdout",
     "output_type": "stream",
     "text": [
      "enter the number:31415\n",
      "3\n",
      "4\n",
      "8\n",
      "9\n",
      "14\n"
     ]
    }
   ],
   "source": [
    "n = input(\"enter the number:\")\n",
    "sum=0\n",
    "for i in n:\n",
    "    sum=sum+int(i)\n",
    "    print(sum)"
   ]
  },
  {
   "cell_type": "raw",
   "metadata": {},
   "source": [
    "\n",
    "        "
   ]
  },
  {
   "cell_type": "code",
   "execution_count": 13,
   "metadata": {},
   "outputs": [
    {
     "name": "stdout",
     "output_type": "stream",
     "text": [
      "1\n",
      "2\n",
      "fizz\n",
      "4\n",
      "buzz\n",
      "fizz\n",
      "7\n",
      "8\n",
      "fizz\n",
      "buzz\n",
      "11\n",
      "fizz\n",
      "13\n",
      "14\n",
      "fizzbuzz\n",
      "16\n",
      "17\n",
      "fizz\n",
      "19\n",
      "buzz\n",
      "fizz\n",
      "22\n",
      "23\n",
      "fizz\n",
      "buzz\n",
      "26\n",
      "fizz\n",
      "28\n",
      "29\n",
      "fizzbuzz\n",
      "31\n",
      "32\n",
      "fizz\n",
      "34\n",
      "buzz\n",
      "fizz\n",
      "37\n",
      "38\n",
      "fizz\n",
      "buzz\n",
      "41\n",
      "fizz\n",
      "43\n",
      "44\n",
      "fizzbuzz\n",
      "46\n",
      "47\n",
      "fizz\n",
      "49\n",
      "buzz\n",
      "fizz\n",
      "52\n",
      "53\n",
      "fizz\n",
      "buzz\n",
      "56\n",
      "fizz\n",
      "58\n",
      "59\n",
      "fizzbuzz\n",
      "61\n",
      "62\n",
      "fizz\n",
      "64\n",
      "buzz\n",
      "fizz\n",
      "67\n",
      "68\n",
      "fizz\n",
      "buzz\n",
      "71\n",
      "fizz\n",
      "73\n",
      "74\n",
      "fizzbuzz\n",
      "76\n",
      "77\n",
      "fizz\n",
      "79\n",
      "buzz\n",
      "fizz\n",
      "82\n",
      "83\n",
      "fizz\n",
      "buzz\n",
      "86\n",
      "fizz\n",
      "88\n",
      "89\n",
      "fizzbuzz\n",
      "91\n",
      "92\n",
      "fizz\n",
      "94\n",
      "buzz\n",
      "fizz\n",
      "97\n",
      "98\n",
      "fizz\n",
      "buzz\n"
     ]
    }
   ],
   "source": [
    "for num in range(1,101):\n",
    "    if(num%3==0) and (num%5==0):\n",
    "        print(\"fizzbuzz\")\n",
    "    elif(num%3==0):\n",
    "        print(\"fizz\")\n",
    "    elif(num%5==0):\n",
    "        print(\"buzz\")\n",
    "    else:\n",
    "        print(num)\n",
    "    "
   ]
  },
  {
   "cell_type": "code",
   "execution_count": 5,
   "metadata": {},
   "outputs": [
    {
     "name": "stdout",
     "output_type": "stream",
     "text": [
      "enter a value:5\n",
      "the sum of odd numbers is : 1\n",
      "the sum of odd numbers is : 1\n",
      "the sum of odd numbers is : 4\n",
      "the sum of odd numbers is : 4\n",
      "the sum of odd numbers is : 9\n"
     ]
    }
   ],
   "source": [
    "n = int(input(\"enter a value:\"))\n",
    "sum=0\n",
    "for i in range(1,n+1):\n",
    "    if(i%2!=0):\n",
    "        sum=sum+i\n",
    "    print(\"the sum of odd numbers is :\",sum)"
   ]
  },
  {
   "cell_type": "code",
   "execution_count": 8,
   "metadata": {},
   "outputs": [
    {
     "name": "stdout",
     "output_type": "stream",
     "text": [
      "enter the number:2\n",
      "is square root: 1.5\n",
      "is square root: 1.4166666666666665\n",
      "is square root: 1.4142156862745097\n",
      "is square root: 1.4142135623746899\n",
      "is square root: 1.414213562373095\n"
     ]
    }
   ],
   "source": [
    "x = int(input(\"enter the number:\"))\n",
    "guess=x/2\n",
    "while(abs(guess*guess-x)>=10**-12):\n",
    "    guess=(guess+x/guess)/2\n",
    "    print(\"is square root:\",guess)\n"
   ]
  },
  {
   "cell_type": "code",
   "execution_count": null,
   "metadata": {},
   "outputs": [],
   "source": []
  },
  {
   "cell_type": "code",
   "execution_count": null,
   "metadata": {},
   "outputs": [],
   "source": []
  }
 ],
 "metadata": {
  "kernelspec": {
   "display_name": "Python 3",
   "language": "python",
   "name": "python3"
  },
  "language_info": {
   "codemirror_mode": {
    "name": "ipython",
    "version": 3
   },
   "file_extension": ".py",
   "mimetype": "text/x-python",
   "name": "python",
   "nbconvert_exporter": "python",
   "pygments_lexer": "ipython3",
   "version": "3.7.3"
  }
 },
 "nbformat": 4,
 "nbformat_minor": 2
}
